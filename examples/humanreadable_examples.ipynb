{
 "cells": [
  {
   "cell_type": "code",
   "execution_count": 1,
   "metadata": {},
   "outputs": [
    {
     "name": "stdout",
     "output_type": "stream",
     "text": [
      "\n",
      "[Examples: humanreadable.Time]\n",
      "'120 sec' to msecs -> 120000.0\n",
      "'120 sec' to minutes -> 2.0\n",
      "\n",
      "[Examples: humanreadable.BitPerSecond]\n",
      "'1 Gbps' to Mbps -> 1000.0\n",
      "'1 Gbps' to Kbps -> 1000000.0\n",
      "'1 Gbps' to Kibps -> 953674.31640625\n"
     ]
    }
   ],
   "source": [
    "import humanreadable as hr\n",
    "\n",
    "print(\"\\n[Examples: humanreadable.Time]\")\n",
    "value = \"120 sec\"\n",
    "print(\"'{}' to msecs -> {}\".format(value, hr.Time(value).milliseconds))\n",
    "print(\"'{}' to minutes -> {}\".format(value, hr.Time(value).minutes))\n",
    "\n",
    "print(\"\\n[Examples: humanreadable.BitPerSecond]\")\n",
    "value = \"1 Gbps\"\n",
    "print(\"'{}' to Mbps -> {}\".format(value, hr.BitPerSecond(value).mega_bps))\n",
    "print(\"'{}' to Kbps -> {}\".format(value, hr.BitPerSecond(value).kilo_bps))\n",
    "print(\"'{}' to Kibps -> {}\".format(value, hr.BitPerSecond(value).kibi_bps))"
   ]
  },
  {
   "cell_type": "code",
   "execution_count": 2,
   "metadata": {},
   "outputs": [
    {
     "name": "stdout",
     "output_type": "stream",
     "text": [
      "1.0 seconds\n"
     ]
    }
   ],
   "source": [
    "import humanreadable as hr\n",
    "\n",
    "print(hr.Time(\"1\", default_unit=hr.Time.Unit.SECOND))"
   ]
  },
  {
   "cell_type": "code",
   "execution_count": 7,
   "metadata": {},
   "outputs": [
    {
     "name": "stdout",
     "output_type": "stream",
     "text": [
      ".. table:: Available units for humanreadable.Time\n",
      "\n",
      "    +------------+----------------------------------------------------------+\n",
      "    |    Unit    |                Available specifiers (str)                |\n",
      "    +============+==========================================================+\n",
      "    |days        |``d``/``day``/``days``                                    |\n",
      "    +------------+----------------------------------------------------------+\n",
      "    |hours       |``h``/``hour``/``hours``                                  |\n",
      "    +------------+----------------------------------------------------------+\n",
      "    |minutes     |``m``/``min``/``mins``/``minute``/``minutes``             |\n",
      "    +------------+----------------------------------------------------------+\n",
      "    |seconds     |``s``/``sec``/``secs``/``second``/``seconds``             |\n",
      "    +------------+----------------------------------------------------------+\n",
      "    |milliseconds|``ms``/``msec``/``msecs``/``millisecond``/``milliseconds``|\n",
      "    +------------+----------------------------------------------------------+\n",
      "    |microseconds|``us``/``usec``/``usecs``/``microsecond``/``microseconds``|\n",
      "    +------------+----------------------------------------------------------+\n"
     ]
    }
   ],
   "source": [
    "from pytablewriter import RstGridTableWriter\n",
    "\n",
    "writer = RstGridTableWriter()\n",
    "writer.table_name = \"Available units for humanreadable.Time\"\n",
    "writer.headers = [\"Unit\", \"Available specifiers (str)\"]\n",
    "\n",
    "value_matrix = []\n",
    "for key, values in hr.Time.get_text_units().items():\n",
    "    value_matrix.append([key.name, \"/\".join([\"``{}``\".format(value) for value in values])])\n",
    "\n",
    "writer.value_matrix = value_matrix\n",
    "\n",
    "writer.write_table()"
   ]
  },
  {
   "cell_type": "code",
   "execution_count": 6,
   "metadata": {},
   "outputs": [
    {
     "name": "stdout",
     "output_type": "stream",
     "text": [
      ".. table:: Available units for humanreadable.BitPerSecond\n",
      "\n",
      "    +-----+---------------------------+\n",
      "    |Unit |Available specifiers (str) |\n",
      "    +=====+===========================+\n",
      "    |bps  |``bps``/``bit/s``          |\n",
      "    +-----+---------------------------+\n",
      "    |Kbps |``[kK]bps``/``[kK]bit/s``  |\n",
      "    +-----+---------------------------+\n",
      "    |Kibps|``[kK]ibps``/``[kK]ibit/s``|\n",
      "    +-----+---------------------------+\n",
      "    |Mbps |``[mM]bps``/``[mM]bit/s``  |\n",
      "    +-----+---------------------------+\n",
      "    |Mibps|``[mM]ibps``/``[mM]ibit/s``|\n",
      "    +-----+---------------------------+\n",
      "    |Gbps |``[gG]bps``/``[gG]bit/s``  |\n",
      "    +-----+---------------------------+\n",
      "    |Gibps|``[gG]ibps``/``[gG]ibit/s``|\n",
      "    +-----+---------------------------+\n",
      "    |Tbps |``[tT]bps``/``[tT]bit/s``  |\n",
      "    +-----+---------------------------+\n",
      "    |Tibps|``[tT]ibps``/``[tT]ibit/s``|\n",
      "    +-----+---------------------------+\n"
     ]
    }
   ],
   "source": [
    "from pytablewriter import RstGridTableWriter\n",
    "\n",
    "writer = RstGridTableWriter()\n",
    "writer.table_name = \"Available units for humanreadable.BitPerSecond\"\n",
    "writer.headers = [\"Unit\", \"Available specifiers (str)\"]\n",
    "\n",
    "value_matrix = []\n",
    "for key, values in hr.BitPerSecond.get_text_units().items():\n",
    "    value_matrix.append([key.name, \"/\".join([\"``{}``\".format(value) for value in values])])\n",
    "\n",
    "writer.value_matrix = value_matrix\n",
    "\n",
    "writer.write_table()"
   ]
  },
  {
   "cell_type": "code",
   "execution_count": null,
   "metadata": {},
   "outputs": [],
   "source": []
  }
 ],
 "metadata": {
  "kernelspec": {
   "display_name": "Python 3",
   "language": "python",
   "name": "python3"
  },
  "language_info": {
   "codemirror_mode": {
    "name": "ipython",
    "version": 3
   },
   "file_extension": ".py",
   "mimetype": "text/x-python",
   "name": "python",
   "nbconvert_exporter": "python",
   "pygments_lexer": "ipython3",
   "version": "3.7.2"
  }
 },
 "nbformat": 4,
 "nbformat_minor": 2
}
