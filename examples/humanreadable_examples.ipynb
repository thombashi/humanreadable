{
 "cells": [
  {
   "cell_type": "code",
   "execution_count": 7,
   "metadata": {},
   "outputs": [
    {
     "name": "stdout",
     "output_type": "stream",
     "text": [
      "\n",
      "[Examples: humanreadable.Time]\n",
      "'120 sec' to msecs -> 120000.0\n",
      "'120 sec' to minutes -> 2.0\n",
      "'12 min 40 sec' to seconds -> 760.0\n",
      "\n",
      "[Examples: humanreadable.BitPerSecond]\n",
      "'1 Gbps' to Mbps -> 1000.0\n",
      "'1 Gbps' to Kbps -> 1000000.0\n",
      "'1 Gbps' to Kibps -> 976562.5\n"
     ]
    }
   ],
   "source": [
    "import humanreadable as hr\n",
    "\n",
    "print(\"\\n[Examples: humanreadable.Time]\")\n",
    "value = \"120 sec\"\n",
    "print(\"'{}' to msecs -> {}\".format(value, hr.Time(value).milliseconds))\n",
    "print(\"'{}' to minutes -> {}\".format(value, hr.Time(value).minutes))\n",
    "\n",
    "value = \"12 min 40 sec\"\n",
    "print(\"'{}' to seconds -> {}\".format(value, hr.Time(value).seconds))\n",
    "\n",
    "print(\"\\n[Examples: humanreadable.BitPerSecond]\")\n",
    "value = \"1 Gbps\"\n",
    "print(\"'{}' to Mbps -> {}\".format(value, hr.BitPerSecond(value).mega_bps))\n",
    "print(\"'{}' to Kbps -> {}\".format(value, hr.BitPerSecond(value).kilo_bps))\n",
    "print(\"'{}' to Kibps -> {}\".format(value, hr.BitPerSecond(value).kibi_bps))"
   ]
  },
  {
   "cell_type": "code",
   "execution_count": 8,
   "metadata": {},
   "outputs": [
    {
     "name": "stdout",
     "output_type": "stream",
     "text": [
      "1 seconds\n"
     ]
    }
   ],
   "source": [
    "import humanreadable as hr\n",
    "\n",
    "print(hr.Time(\"1\", default_unit=hr.Time.Unit.SECOND))"
   ]
  },
  {
   "cell_type": "code",
   "execution_count": 9,
   "metadata": {},
   "outputs": [
    {
     "name": "stdout",
     "output_type": "stream",
     "text": [
      ".. table:: Available units for humanreadable.Time\n",
      "\n",
      "    +------------+----------------------------------------------------------+\n",
      "    |    Unit    |                Available specifiers (str)                |\n",
      "    +============+==========================================================+\n",
      "    |days        |``d``/``day``/``days``                                    |\n",
      "    +------------+----------------------------------------------------------+\n",
      "    |hours       |``h``/``hour``/``hours``                                  |\n",
      "    +------------+----------------------------------------------------------+\n",
      "    |minutes     |``m``/``min``/``mins``/``minute``/``minutes``             |\n",
      "    +------------+----------------------------------------------------------+\n",
      "    |seconds     |``s``/``sec``/``secs``/``second``/``seconds``             |\n",
      "    +------------+----------------------------------------------------------+\n",
      "    |milliseconds|``ms``/``msec``/``msecs``/``millisecond``/``milliseconds``|\n",
      "    +------------+----------------------------------------------------------+\n",
      "    |microseconds|``us``/``usec``/``usecs``/``microsecond``/``microseconds``|\n",
      "    +------------+----------------------------------------------------------+\n"
     ]
    }
   ],
   "source": [
    "from pytablewriter import RstGridTableWriter\n",
    "\n",
    "writer = RstGridTableWriter()\n",
    "writer.table_name = \"Available units for humanreadable.Time\"\n",
    "writer.headers = [\"Unit\", \"Available specifiers (str)\"]\n",
    "\n",
    "value_matrix = []\n",
    "for key, values in hr.Time.get_text_units().items():\n",
    "    value_matrix.append([key.name, \"/\".join([\"``{}``\".format(value) for value in values])])\n",
    "\n",
    "writer.value_matrix = value_matrix\n",
    "\n",
    "writer.write_table()"
   ]
  },
  {
   "cell_type": "code",
   "execution_count": 10,
   "metadata": {},
   "outputs": [
    {
     "name": "stdout",
     "output_type": "stream",
     "text": [
      ".. table:: Available units for humanreadable.BitPerSecond\n",
      "\n",
      "    +-----+------------------------------------------------------+\n",
      "    |Unit |              Available specifiers (str)              |\n",
      "    +=====+======================================================+\n",
      "    |Kbps |``[kK]bps``/``[kK]bits?(/|\\s?per\\s?)(s|sec|second)``  |\n",
      "    +-----+------------------------------------------------------+\n",
      "    |Kibps|``[kK]ibps``/``[kK]ibits?(/|\\s?per\\s?)(s|sec|second)``|\n",
      "    +-----+------------------------------------------------------+\n",
      "    |Mbps |``[mM]bps``/``[mM]bits?(/|\\s?per\\s?)(s|sec|second)``  |\n",
      "    +-----+------------------------------------------------------+\n",
      "    |Mibps|``[mM]ibps``/``[mM]ibits?(/|\\s?per\\s?)(s|sec|second)``|\n",
      "    +-----+------------------------------------------------------+\n",
      "    |Gbps |``[gG]bps``/``[gG]bits?(/|\\s?per\\s?)(s|sec|second)``  |\n",
      "    +-----+------------------------------------------------------+\n",
      "    |Gibps|``[gG]ibps``/``[gG]ibits?(/|\\s?per\\s?)(s|sec|second)``|\n",
      "    +-----+------------------------------------------------------+\n",
      "    |Tbps |``[tT]bps``/``[tT]bits?(/|\\s?per\\s?)(s|sec|second)``  |\n",
      "    +-----+------------------------------------------------------+\n",
      "    |Tibps|``[tT]ibps``/``[tT]ibits?(/|\\s?per\\s?)(s|sec|second)``|\n",
      "    +-----+------------------------------------------------------+\n",
      "    |bps  |``bps``/``bits?(/|\\s?per\\s?)(s|sec|second)``          |\n",
      "    +-----+------------------------------------------------------+\n"
     ]
    }
   ],
   "source": [
    "from pytablewriter import RstGridTableWriter\n",
    "\n",
    "writer = RstGridTableWriter()\n",
    "writer.table_name = \"Available units for humanreadable.BitPerSecond\"\n",
    "writer.headers = [\"Unit\", \"Available specifiers (str)\"]\n",
    "\n",
    "value_matrix = []\n",
    "for key, values in hr.BitPerSecond.get_text_units().items():\n",
    "    value_matrix.append([key.name, \"/\".join([\"``{}``\".format(value) for value in values])])\n",
    "\n",
    "writer.value_matrix = value_matrix\n",
    "\n",
    "writer.write_table()"
   ]
  },
  {
   "cell_type": "code",
   "execution_count": 11,
   "metadata": {},
   "outputs": [
    {
     "data": {
      "text/plain": [
       "'6 minutes 40 seconds'"
      ]
     },
     "execution_count": 11,
     "metadata": {},
     "output_type": "execute_result"
    }
   ],
   "source": [
    "hr.Time(\"400\", default_unit=hr.Time.Unit.SECOND).to_humanreadable()"
   ]
  }
 ],
 "metadata": {
  "kernelspec": {
   "display_name": "Python 3",
   "language": "python",
   "name": "python3"
  },
  "language_info": {
   "codemirror_mode": {
    "name": "ipython",
    "version": 3
   },
   "file_extension": ".py",
   "mimetype": "text/x-python",
   "name": "python",
   "nbconvert_exporter": "python",
   "pygments_lexer": "ipython3",
   "version": "3.10.9"
  }
 },
 "nbformat": 4,
 "nbformat_minor": 2
}
