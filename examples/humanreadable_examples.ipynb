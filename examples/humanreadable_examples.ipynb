{
 "cells": [
  {
   "cell_type": "code",
   "execution_count": 17,
   "metadata": {},
   "outputs": [
    {
     "name": "stdout",
     "output_type": "stream",
     "text": [
      "\n",
      "[Examples: humanreadable.Time]\n",
      "'120 sec' to msecs -> 120000.0\n",
      "'120 sec' to minutes -> 2.0\n",
      "'12 min 40 sec' to seconds -> 760.0\n",
      "\n",
      "[Examples: humanreadable.BitsPerSecond]\n",
      "'1 Gbps' to Mbps -> 1000.0\n",
      "'1 Gbps' to Kbps -> 1000000.0\n",
      "'1 Gbps' to Kibps -> 976562.5\n"
     ]
    }
   ],
   "source": [
    "import humanreadable as hr\n",
    "\n",
    "\n",
    "print(\"\\n[Examples: humanreadable.Time]\")\n",
    "value = \"120 sec\"\n",
    "print(f\"'{value}' to msecs -> {hr.Time(value).milliseconds}\")\n",
    "print(f\"'{value}' to minutes -> {hr.Time(value).minutes}\")\n",
    "\n",
    "value = \"12 min 40 sec\"\n",
    "print(f\"'{value}' to seconds -> {hr.Time(value).seconds}\")\n",
    "\n",
    "print(\"\\n[Examples: humanreadable.BitsPerSecond]\")\n",
    "value = \"1 Gbps\"\n",
    "print(f\"'{value}' to Mbps -> {hr.BitsPerSecond(value).mega_bps}\")\n",
    "print(f\"'{value}' to Kbps -> {hr.BitsPerSecond(value).kilo_bps}\")\n",
    "print(f\"'{value}' to Kibps -> {hr.BitsPerSecond(value).kibi_bps}\")"
   ]
  },
  {
   "cell_type": "code",
   "execution_count": 18,
   "metadata": {},
   "outputs": [
    {
     "name": "stdout",
     "output_type": "stream",
     "text": [
      "1 seconds\n"
     ]
    }
   ],
   "source": [
    "import humanreadable as hr\n",
    "\n",
    "print(hr.Time(\"1\", default_unit=hr.Time.Unit.SECOND))"
   ]
  },
  {
   "cell_type": "code",
   "execution_count": 19,
   "metadata": {},
   "outputs": [
    {
     "name": "stdout",
     "output_type": "stream",
     "text": [
      ".. table:: Available units for ``humanreadable.Time``\n",
      "\n",
      "    +--------------+------------------------------------------------------------+\n",
      "    |     Unit     |              Available unit specifiers (str)               |\n",
      "    +==============+============================================================+\n",
      "    | days         | ``d``/``day``/``days``                                     |\n",
      "    +--------------+------------------------------------------------------------+\n",
      "    | hours        | ``h``/``hour``/``hours``                                   |\n",
      "    +--------------+------------------------------------------------------------+\n",
      "    | minutes      | ``m``/``min``/``mins``/``minute``/``minutes``              |\n",
      "    +--------------+------------------------------------------------------------+\n",
      "    | seconds      | ``s``/``sec``/``secs``/``second``/``seconds``              |\n",
      "    +--------------+------------------------------------------------------------+\n",
      "    | milliseconds | ``ms``/``msec``/``msecs``/``millisecond``/``milliseconds`` |\n",
      "    +--------------+------------------------------------------------------------+\n",
      "    | microseconds | ``us``/``usec``/``usecs``/``microsecond``/``microseconds`` |\n",
      "    +--------------+------------------------------------------------------------+\n"
     ]
    }
   ],
   "source": [
    "from pytablewriter import RstGridTableWriter\n",
    "\n",
    "\n",
    "writer = RstGridTableWriter(\n",
    "    table_name=\"Available units for ``humanreadable.Time``\",\n",
    "    headers=[\"Unit\", \"Available unit specifiers (str)\"],\n",
    "    margin=1,\n",
    ")\n",
    "writer.value_matrix = [\n",
    "    [key.name, \"/\".join([f\"``{value}``\" for value in values])]\n",
    "    for key, values in hr.Time.get_text_units().items()\n",
    "]\n",
    "\n",
    "writer.write_table()"
   ]
  },
  {
   "cell_type": "code",
   "execution_count": 20,
   "metadata": {},
   "outputs": [
    {
     "name": "stdout",
     "output_type": "stream",
     "text": [
      ".. table:: Available units ``for humanreadable.BitsPerSecond``\n",
      "\n",
      "    +-------+--------------------------------------------------------+\n",
      "    | Unit  |            Available unit specifiers (str)             |\n",
      "    +=======+========================================================+\n",
      "    | Kbps  | ``[kK]bps``/``[kK]bits?(/|\\s?per\\s?)(s|sec|second)``   |\n",
      "    +-------+--------------------------------------------------------+\n",
      "    | Kibps | ``[kK]ibps``/``[kK]ibits?(/|\\s?per\\s?)(s|sec|second)`` |\n",
      "    +-------+--------------------------------------------------------+\n",
      "    | Mbps  | ``[mM]bps``/``[mM]bits?(/|\\s?per\\s?)(s|sec|second)``   |\n",
      "    +-------+--------------------------------------------------------+\n",
      "    | Mibps | ``[mM]ibps``/``[mM]ibits?(/|\\s?per\\s?)(s|sec|second)`` |\n",
      "    +-------+--------------------------------------------------------+\n",
      "    | Gbps  | ``[gG]bps``/``[gG]bits?(/|\\s?per\\s?)(s|sec|second)``   |\n",
      "    +-------+--------------------------------------------------------+\n",
      "    | Gibps | ``[gG]ibps``/``[gG]ibits?(/|\\s?per\\s?)(s|sec|second)`` |\n",
      "    +-------+--------------------------------------------------------+\n",
      "    | Tbps  | ``[tT]bps``/``[tT]bits?(/|\\s?per\\s?)(s|sec|second)``   |\n",
      "    +-------+--------------------------------------------------------+\n",
      "    | Tibps | ``[tT]ibps``/``[tT]ibits?(/|\\s?per\\s?)(s|sec|second)`` |\n",
      "    +-------+--------------------------------------------------------+\n",
      "    | bps   | ``bps``/``bits?(/|\\s?per\\s?)(s|sec|second)``           |\n",
      "    +-------+--------------------------------------------------------+\n"
     ]
    }
   ],
   "source": [
    "from pytablewriter import RstGridTableWriter\n",
    "\n",
    "\n",
    "writer = RstGridTableWriter(\n",
    "    table_name=\"Available units for ``humanreadable.BitsPerSecond``\",\n",
    "    headers=[\"Unit\", \"Available unit specifiers (str)\"],\n",
    "    margin=1,\n",
    ")\n",
    "writer.value_matrix = [\n",
    "    [key.name, \"/\".join([f\"``{value}``\" for value in values])]\n",
    "    for key, values in hr.BitsPerSecond.get_text_units().items()\n",
    "]\n",
    "\n",
    "writer.write_table()"
   ]
  },
  {
   "cell_type": "code",
   "execution_count": 21,
   "metadata": {},
   "outputs": [
    {
     "name": "stdout",
     "output_type": "stream",
     "text": [
      "6 minutes 40 seconds\n",
      "6m 40s\n"
     ]
    }
   ],
   "source": [
    "t = hr.Time(\"400\", default_unit=hr.Time.Unit.SECOND)\n",
    "print(t.to_humanreadable())\n",
    "print(t.to_humanreadable(style=\"short\"))"
   ]
  }
 ],
 "metadata": {
  "kernelspec": {
   "display_name": "Python 3",
   "language": "python",
   "name": "python3"
  },
  "language_info": {
   "codemirror_mode": {
    "name": "ipython",
    "version": 3
   },
   "file_extension": ".py",
   "mimetype": "text/x-python",
   "name": "python",
   "nbconvert_exporter": "python",
   "pygments_lexer": "ipython3",
   "version": "3.10.9"
  }
 },
 "nbformat": 4,
 "nbformat_minor": 2
}
